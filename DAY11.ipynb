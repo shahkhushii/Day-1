{
 "cells": [
  {
   "cell_type": "markdown",
   "id": "885d9d14-6f66-4196-ad33-1ed61ee597e2",
   "metadata": {},
   "source": [
    "# DAY11"
   ]
  },
  {
   "cell_type": "markdown",
   "id": "2dc90062-d256-4408-b1ed-c3f1cec89c5a",
   "metadata": {},
   "source": [
    "### Sets"
   ]
  },
  {
   "cell_type": "code",
   "execution_count": 1,
   "id": "3d8ae10e-fd84-41d1-95ab-29b9a69ea8c5",
   "metadata": {},
   "outputs": [
    {
     "name": "stdout",
     "output_type": "stream",
     "text": [
      "{'cat', 'balls', 'animal'}\n",
      "<class 'set'>\n"
     ]
    }
   ],
   "source": [
    "a={\"animal\", \"balls\", \"cat\"}\n",
    "print(a)\n",
    "print(type(a))"
   ]
  },
  {
   "cell_type": "code",
   "execution_count": 2,
   "id": "af3dfc36-ff18-4c02-9831-6e4095946bae",
   "metadata": {},
   "outputs": [
    {
     "name": "stdout",
     "output_type": "stream",
     "text": [
      "{'cat', 'balls', 'animal'}\n"
     ]
    }
   ],
   "source": [
    "a={\"animal\", \"balls\", \"cat\", \"animal\", \"balls\", \"cat\"}\n",
    "print(a)"
   ]
  },
  {
   "cell_type": "code",
   "execution_count": 3,
   "id": "f0041677-e04e-4e90-922a-c0cb1e79c04c",
   "metadata": {},
   "outputs": [
    {
     "name": "stdout",
     "output_type": "stream",
     "text": [
      "{'cats', 1, 0, 'animal'}\n"
     ]
    }
   ],
   "source": [
    "a={\"animal\",\"cats\", 1 , 0 , True , False}\n",
    "print(a)"
   ]
  },
  {
   "cell_type": "code",
   "execution_count": 5,
   "id": "9c66300c-46c6-41d2-ad52-66f1cd37f2f8",
   "metadata": {},
   "outputs": [
    {
     "name": "stdout",
     "output_type": "stream",
     "text": [
      "5\n",
      "3\n"
     ]
    }
   ],
   "source": [
    "a={\"animal\", \"balls\", \"cat\",\"house\",\"pencil\"}\n",
    "print(len(a))\n",
    "\n",
    "b={\"animal\", \"balls\", \"cat\", \"animal\", \"balls\", \"cat\"}\n",
    "print(len(b))"
   ]
  },
  {
   "cell_type": "code",
   "execution_count": 7,
   "id": "16ad1d4d-69da-489b-84c1-88d09f8804ec",
   "metadata": {},
   "outputs": [
    {
     "ename": "TypeError",
     "evalue": "unhashable type: 'list'",
     "output_type": "error",
     "traceback": [
      "\u001b[1;31m---------------------------------------------------------------------------\u001b[0m",
      "\u001b[1;31mTypeError\u001b[0m                                 Traceback (most recent call last)",
      "Cell \u001b[1;32mIn[7], line 1\u001b[0m\n\u001b[1;32m----> 1\u001b[0m a\u001b[38;5;241m=\u001b[39m{[\u001b[38;5;241m1\u001b[39m,\u001b[38;5;241m2\u001b[39m,\u001b[38;5;241m3\u001b[39m,\u001b[38;5;241m4\u001b[39m]}\n\u001b[0;32m      2\u001b[0m \u001b[38;5;28mprint\u001b[39m(a)\n",
      "\u001b[1;31mTypeError\u001b[0m: unhashable type: 'list'"
     ]
    }
   ],
   "source": [
    "a={[1,2,3,4]}\n",
    "print(a)"
   ]
  },
  {
   "cell_type": "code",
   "execution_count": 8,
   "id": "87693f85-dab7-4af8-8fc8-f3ba658a8970",
   "metadata": {},
   "outputs": [
    {
     "ename": "TypeError",
     "evalue": "unhashable type: 'dict'",
     "output_type": "error",
     "traceback": [
      "\u001b[1;31m---------------------------------------------------------------------------\u001b[0m",
      "\u001b[1;31mTypeError\u001b[0m                                 Traceback (most recent call last)",
      "Cell \u001b[1;32mIn[8], line 1\u001b[0m\n\u001b[1;32m----> 1\u001b[0m b\u001b[38;5;241m=\u001b[39m{{\u001b[38;5;124m\"\u001b[39m\u001b[38;5;124mId\u001b[39m\u001b[38;5;124m\"\u001b[39m:\u001b[38;5;124m\"\u001b[39m\u001b[38;5;124m123\u001b[39m\u001b[38;5;124m\"\u001b[39m,\u001b[38;5;124m\"\u001b[39m\u001b[38;5;124mName\u001b[39m\u001b[38;5;124m\"\u001b[39m:\u001b[38;5;124m\"\u001b[39m\u001b[38;5;124mKhushi\u001b[39m\u001b[38;5;124m\"\u001b[39m}}\n\u001b[0;32m      2\u001b[0m \u001b[38;5;28mprint\u001b[39m(b)\n",
      "\u001b[1;31mTypeError\u001b[0m: unhashable type: 'dict'"
     ]
    }
   ],
   "source": [
    "b={{\"Id\":\"123\",\"Name\":\"Khushi\"}}\n",
    "print(b)"
   ]
  },
  {
   "cell_type": "code",
   "execution_count": 9,
   "id": "a17cd808-8801-46af-8c14-4f8c3672fd80",
   "metadata": {},
   "outputs": [
    {
     "name": "stdout",
     "output_type": "stream",
     "text": [
      "{(1, 2, 3, 4)}\n"
     ]
    }
   ],
   "source": [
    "c={(1,2,3,4)}\n",
    "print(c)"
   ]
  },
  {
   "cell_type": "code",
   "execution_count": 11,
   "id": "f6615219-4a54-43b2-92d6-1e6b98ea5a3f",
   "metadata": {},
   "outputs": [
    {
     "name": "stdout",
     "output_type": "stream",
     "text": [
      "<class 'set'>\n"
     ]
    }
   ],
   "source": [
    "a=set({\"animal\", \"balls\", \"cat\"})#SET CONSTRUCTOR\n",
    "print(type(a))"
   ]
  },
  {
   "cell_type": "code",
   "execution_count": 12,
   "id": "f7c83bf7-87a5-4558-8147-c16a1732f5f2",
   "metadata": {},
   "outputs": [
    {
     "name": "stdout",
     "output_type": "stream",
     "text": [
      "cat\n",
      "balls\n",
      "animal\n"
     ]
    }
   ],
   "source": [
    "a={\"animal\", \"balls\", \"cat\", \"animal\", \"balls\", \"cat\"}\n",
    "for x in a:\n",
    "    print(x)"
   ]
  },
  {
   "cell_type": "code",
   "execution_count": 13,
   "id": "bef34229-ecd5-4f9e-b790-14be7ad72ce8",
   "metadata": {},
   "outputs": [
    {
     "name": "stdout",
     "output_type": "stream",
     "text": [
      "True\n",
      "False\n"
     ]
    }
   ],
   "source": [
    "a=set({\"animal\", \"balls\", \"cat\"})\n",
    "print(\"animal\" in a)\n",
    "print(\"Animal\" in a)"
   ]
  },
  {
   "cell_type": "code",
   "execution_count": 19,
   "id": "176a30b2-e9f8-47b9-ae32-845508ffc244",
   "metadata": {},
   "outputs": [
    {
     "name": "stdout",
     "output_type": "stream",
     "text": [
      "{'a', 'd', 'e', 'c', 'b'}\n",
      "{'a', 'd', 'y', 'e', 'c', 'x', 'b', 'z'}\n",
      "{'a', 'd', 'y', 'e', 'c', 'b', 'z'}\n",
      "{'d', 'y', 'e', 'c', 'b', 'z'}\n",
      "set()\n"
     ]
    }
   ],
   "source": [
    "a={\"a\",\"b\",\"c\",\"d\"}\n",
    "a.add(\"e\")\n",
    "print(a)\n",
    "\n",
    "b={\"x\",\"y\",\"z\"}\n",
    "a.update(b)\n",
    "print(a)\n",
    "\n",
    "a.remove(\"x\")\n",
    "print(a)\n",
    "\n",
    "a.pop()\n",
    "print(a)\n",
    "\n",
    "a.clear()\n",
    "print(a)"
   ]
  },
  {
   "cell_type": "code",
   "execution_count": 22,
   "id": "8340c666-3340-455a-a999-f1d3f98d6793",
   "metadata": {},
   "outputs": [
    {
     "name": "stdout",
     "output_type": "stream",
     "text": [
      "63\n",
      "1\n"
     ]
    }
   ],
   "source": [
    "a={1,5,15,48,20,63}\n",
    "print(max(a))\n",
    "print(min(a))"
   ]
  },
  {
   "cell_type": "code",
   "execution_count": 26,
   "id": "a199dac5-40c4-494d-aa36-e6a190085731",
   "metadata": {},
   "outputs": [
    {
     "name": "stdout",
     "output_type": "stream",
     "text": [
      "{'a', 'd', 'y', 'c', 'x', 'b', 'm', 'z'}\n",
      "{'m'}\n",
      "{'c', 'a', 'b', 'd'}\n"
     ]
    }
   ],
   "source": [
    "a={\"a\",\"b\",\"c\",\"d\",\"m\"}\n",
    "b={\"m\",\"x\",\"y\",\"z\"}\n",
    "\n",
    "c=a.union(b)\n",
    "print(c)\n",
    "\n",
    "d=a.intersection(b)\n",
    "print(d)\n",
    "\n",
    "e=a.difference(b)\n",
    "print(e)"
   ]
  },
  {
   "cell_type": "code",
   "execution_count": null,
   "id": "a4f585db-e054-4c85-b8c7-5638fbac4404",
   "metadata": {},
   "outputs": [],
   "source": []
  }
 ],
 "metadata": {
  "kernelspec": {
   "display_name": "Python 3 (ipykernel)",
   "language": "python",
   "name": "python3"
  },
  "language_info": {
   "codemirror_mode": {
    "name": "ipython",
    "version": 3
   },
   "file_extension": ".py",
   "mimetype": "text/x-python",
   "name": "python",
   "nbconvert_exporter": "python",
   "pygments_lexer": "ipython3",
   "version": "3.11.7"
  }
 },
 "nbformat": 4,
 "nbformat_minor": 5
}
