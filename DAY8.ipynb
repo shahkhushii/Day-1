{
 "cells": [
  {
   "cell_type": "markdown",
   "id": "b213163a-bc57-4150-bb25-21b04aa74c96",
   "metadata": {},
   "source": [
    "# DAY8"
   ]
  },
  {
   "cell_type": "markdown",
   "id": "babf1ada-24af-4570-afda-3bd7f174494b",
   "metadata": {},
   "source": [
    "### Lists"
   ]
  },
  {
   "cell_type": "code",
   "execution_count": 1,
   "id": "283bcf8f-4ed3-4f42-911d-1427fd3f5bbb",
   "metadata": {},
   "outputs": [
    {
     "name": "stdout",
     "output_type": "stream",
     "text": [
      "['Apple', 'Banana', 'Mango']\n",
      "<class 'list'>\n"
     ]
    }
   ],
   "source": [
    "a=[\"Apple\",\"Banana\",\"Mango\"]\n",
    "print(a)\n",
    "print(type(a))"
   ]
  },
  {
   "cell_type": "code",
   "execution_count": 11,
   "id": "3c8f253f-a2cb-4d95-b1be-a6e2525ace40",
   "metadata": {},
   "outputs": [
    {
     "name": "stdout",
     "output_type": "stream",
     "text": [
      "['Apple', 'Banana', 'Mango', 'Apple', 'Banana', 'Mango']\n"
     ]
    }
   ],
   "source": [
    "#DUPLICATES\n",
    "a=[\"Apple\",\"Banana\",\"Mango\",\"Apple\",\"Banana\",\"Mango\"]\n",
    "print(a)"
   ]
  },
  {
   "cell_type": "code",
   "execution_count": 5,
   "id": "00f5b973-afa7-45d7-815b-3f9174d268a6",
   "metadata": {},
   "outputs": [
    {
     "name": "stdout",
     "output_type": "stream",
     "text": [
      "['Apple', 'Banana', 'Mango']\n",
      "[5, 3, 8]\n",
      "[9.5, 6.4, 2.3]\n",
      "[True, False, True]\n",
      "['Apple', 'Banana', 'Mango', 5, 3, 8, 9.5, 6.4, 2.3, True, False, True]\n"
     ]
    }
   ],
   "source": [
    "a=[\"Apple\",\"Banana\",\"Mango\"]\n",
    "b=[5,3,8]\n",
    "c=[9.5,6.4,2.3]\n",
    "d=[True,False,True]\n",
    "e=[\"Apple\",\"Banana\",\"Mango\",5,3,8,9.5,6.4,2.3,True,False,True]\n",
    "\n",
    "print(a)\n",
    "print(b)\n",
    "print(c)\n",
    "print(d)\n",
    "print(e)"
   ]
  },
  {
   "cell_type": "code",
   "execution_count": 7,
   "id": "81085cb5-a690-45d7-9373-58b122d5fbb4",
   "metadata": {},
   "outputs": [
    {
     "name": "stdout",
     "output_type": "stream",
     "text": [
      "12\n",
      "8\n"
     ]
    }
   ],
   "source": [
    "a=[\"Apple\",\"Banana\",\"Mango\",5,3,8,9.5,6.4,2.3,True,False,True]\n",
    "print(len(a))\n",
    "\n",
    "b=[5,3,9,15,12,2,22,20]\n",
    "print(len(b))"
   ]
  },
  {
   "cell_type": "markdown",
   "id": "fab33f49-bd73-478e-95e0-39439fb2abcd",
   "metadata": {},
   "source": [
    "ACCESS LIST ITEMS"
   ]
  },
  {
   "cell_type": "code",
   "execution_count": 10,
   "id": "6562edc3-822a-43ce-bf93-e451e1988a70",
   "metadata": {},
   "outputs": [
    {
     "name": "stdout",
     "output_type": "stream",
     "text": [
      "8\n",
      "False\n",
      "True\n"
     ]
    }
   ],
   "source": [
    "a=[\"Apple\",\"Banana\",\"Mango\",5,3,8,9.5,6.4,2.3,True,False,True]\n",
    "print(a[5])\n",
    "print(a[10])\n",
    "print(a[-1]) #NEGATIVE INDEXING"
   ]
  },
  {
   "cell_type": "markdown",
   "id": "0301948c-cff5-42bb-bbbd-8cc0daf977f0",
   "metadata": {},
   "source": [
    "SLICING OF A LIST"
   ]
  },
  {
   "cell_type": "code",
   "execution_count": 14,
   "id": "1ad5b092-69e6-4d9a-9cc8-fed5812726e0",
   "metadata": {},
   "outputs": [
    {
     "name": "stdout",
     "output_type": "stream",
     "text": [
      "['Apple', 'Banana', 'Mango', 5, 3, 8, 9.5, 6.4, 2.3, True]\n",
      "['Apple', 5, 9.5, True]\n"
     ]
    }
   ],
   "source": [
    "a=[\"Apple\",\"Banana\",\"Mango\",5,3,8,9.5,6.4,2.3,True,False,True]\n",
    "print(a[0:10])\n",
    "print(a[0:13:3])"
   ]
  },
  {
   "cell_type": "markdown",
   "id": "1548e5ee-d6e7-48fb-80a4-aa58f2abc186",
   "metadata": {},
   "source": [
    "CHANGING ITEMS OF A LIST"
   ]
  },
  {
   "cell_type": "code",
   "execution_count": 16,
   "id": "d9047d42-0974-488f-8ac1-f169e91249d2",
   "metadata": {},
   "outputs": [
    {
     "name": "stdout",
     "output_type": "stream",
     "text": [
      "['Apple', 'Lytchee', 'Mango', 5, 3, 8, 'Banana', 6.4, 2.3, True, False, True]\n"
     ]
    }
   ],
   "source": [
    "a=[\"Apple\",\"Banana\",\"Mango\",5,3,8,9.5,6.4,2.3,True,False,True]\n",
    "a[1]=\"Lytchee\"\n",
    "a[6]=\"Banana\"\n",
    "print(a)"
   ]
  },
  {
   "cell_type": "code",
   "execution_count": 18,
   "id": "5f98d64d-1260-434a-a0e1-03593410d08d",
   "metadata": {},
   "outputs": [
    {
     "name": "stdout",
     "output_type": "stream",
     "text": [
      "['Apple', 'Banana', 'Mango', 5, 3, 8, 10, 11, 12, True, False, True]\n"
     ]
    }
   ],
   "source": [
    "#CHANGING RANGE OF ITEMS\n",
    "a=[\"Apple\",\"Banana\",\"Mango\",5,3,8,9.5,6.4,2.3,True,False,True]\n",
    "a[6:9]=[10,11,12]\n",
    "print(a)"
   ]
  },
  {
   "cell_type": "code",
   "execution_count": 24,
   "id": "d58800bd-33c7-4625-8b69-09489be17a85",
   "metadata": {},
   "outputs": [
    {
     "name": "stdout",
     "output_type": "stream",
     "text": [
      "['Apple', 'Mango', 5, 3, 8, 9.5, 6.4, 2.3, True, False, True, 'Lytchee']\n",
      "['Lytchee', True, False, True, 2.3, 6.4, 9.5, 8, 3, 5, 'Mango', 'Apple']\n"
     ]
    }
   ],
   "source": [
    "a=[\"Apple\",\"Banana\",\"Mango\",5,3,8,9.5,6.4,2.3,True,False,True]\n",
    "a.append(\"Lytchee\")\n",
    "a.remove(\"Banana\")\n",
    "print(a)\n",
    "\n",
    "a.reverse()\n",
    "print(a)"
   ]
  },
  {
   "cell_type": "code",
   "execution_count": 26,
   "id": "4a4d31a1-0a32-4283-8b51-93f62365c6e1",
   "metadata": {},
   "outputs": [
    {
     "name": "stdout",
     "output_type": "stream",
     "text": [
      "11\n",
      "Sum of the list is 55\n"
     ]
    }
   ],
   "source": [
    "#SUM OF ALL ITEMS OF A LIST \n",
    "x=[0,1,2,3,4,5,6,7,8,9,10]\n",
    "print(len(x))\n",
    "\n",
    "a=0\n",
    "for i in range(11):\n",
    "    a=a+x[i]\n",
    "    i=i+1\n",
    "\n",
    "print(\"Sum of the list is\",a)"
   ]
  }
 ],
 "metadata": {
  "kernelspec": {
   "display_name": "Python 3 (ipykernel)",
   "language": "python",
   "name": "python3"
  },
  "language_info": {
   "codemirror_mode": {
    "name": "ipython",
    "version": 3
   },
   "file_extension": ".py",
   "mimetype": "text/x-python",
   "name": "python",
   "nbconvert_exporter": "python",
   "pygments_lexer": "ipython3",
   "version": "3.11.7"
  }
 },
 "nbformat": 4,
 "nbformat_minor": 5
}
