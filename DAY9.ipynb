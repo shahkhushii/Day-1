{
 "cells": [
  {
   "cell_type": "markdown",
   "id": "da6bf45e-1e82-4052-8d73-6b30d5919597",
   "metadata": {},
   "source": [
    "# DAY9"
   ]
  },
  {
   "cell_type": "markdown",
   "id": "e6e46567-5e78-4e31-b068-f038d65605d8",
   "metadata": {},
   "source": [
    "### Tuples"
   ]
  },
  {
   "cell_type": "code",
   "execution_count": 10,
   "id": "7eca9da7-ea9f-40bd-9d3e-fbdc53763bfb",
   "metadata": {},
   "outputs": [
    {
     "name": "stdout",
     "output_type": "stream",
     "text": [
      "<class 'tuple'>\n",
      "<class 'tuple'>\n",
      "<class 'tuple'>\n",
      "<class 'tuple'>\n"
     ]
    }
   ],
   "source": [
    "a=(1,2,3,4,5)\n",
    "b=(\"Apple\",2, 3.5,True)\n",
    "c=()#empty tuple\n",
    "d=tuple((1,2,3))#tuple constructor \n",
    "\n",
    "print(type(a))\n",
    "print(type(b))\n",
    "print(type(c))\n",
    "print(type(d))"
   ]
  },
  {
   "cell_type": "code",
   "execution_count": 7,
   "id": "023e684f-db41-4816-956a-f190221eb03e",
   "metadata": {},
   "outputs": [
    {
     "name": "stdout",
     "output_type": "stream",
     "text": [
      "('Apple', [1, 2, 3, 4], (5, 6, 7))\n",
      "<class 'tuple'>\n"
     ]
    }
   ],
   "source": [
    "#NESTED TUPLES\n",
    "a=(\"Apple\",[1,2,3,4],(5,6,7))\n",
    "print(a)\n",
    "print(type(a))"
   ]
  },
  {
   "cell_type": "code",
   "execution_count": 8,
   "id": "804f4fa0-7859-4cd1-bbb4-49f3f06af1b2",
   "metadata": {},
   "outputs": [
    {
     "name": "stdout",
     "output_type": "stream",
     "text": [
      "<class 'str'>\n",
      "<class 'tuple'>\n"
     ]
    }
   ],
   "source": [
    "#SINGLE ELEMENT TUPLE\n",
    "a=(\"Apple\")\n",
    "print(type(a))\n",
    "\n",
    "b=(\"Apple\",)\n",
    "print(type(b))"
   ]
  },
  {
   "cell_type": "markdown",
   "id": "ce8ea9f4-3706-40df-b101-ec8db13ceafa",
   "metadata": {},
   "source": [
    "INDEXING"
   ]
  },
  {
   "cell_type": "code",
   "execution_count": 11,
   "id": "9a7f98b3-928c-4b45-b1dd-4ff91d91e9f0",
   "metadata": {},
   "outputs": [
    {
     "name": "stdout",
     "output_type": "stream",
     "text": [
      "6\n",
      "10\n"
     ]
    }
   ],
   "source": [
    "a=(1,2,3,4,5,6,7,8,9,10)\n",
    "print(a[5])\n",
    "print(a[-1])"
   ]
  },
  {
   "cell_type": "markdown",
   "id": "8ee69739-a523-4309-a8d2-4a2c65befa99",
   "metadata": {},
   "source": [
    "SLICING"
   ]
  },
  {
   "cell_type": "code",
   "execution_count": 18,
   "id": "961b2aec-abe7-457e-b0da-7d36fc35e98c",
   "metadata": {},
   "outputs": [
    {
     "name": "stdout",
     "output_type": "stream",
     "text": [
      "(5, 6, 7, 8)\n",
      "(3, 5, 7, 9)\n",
      "(5, 6)\n",
      "(10, 9, 8, 7, 6, 5, 4, 3, 2, 1)\n"
     ]
    }
   ],
   "source": [
    "a=(1,2,3,4,5,6,7,8,9,10)\n",
    "print(a[4:8])\n",
    "print(a[2:10:2])\n",
    "print(a[-6:-4])\n",
    "print(a[::-1])"
   ]
  },
  {
   "cell_type": "code",
   "execution_count": 20,
   "id": "a0850ed9-2477-47e2-882c-03c53ad2a487",
   "metadata": {},
   "outputs": [
    {
     "name": "stdout",
     "output_type": "stream",
     "text": [
      "(1, 2, 3, 4, 5, 6)\n",
      "<class 'tuple'>\n"
     ]
    }
   ],
   "source": [
    "#TYPECASTING TUPLE TO LIST THEN TUPLE\n",
    "a=(1,2,3,4,5)\n",
    "x=list(a)\n",
    "x.append(6)\n",
    "a=tuple(x)\n",
    "print(a)\n",
    "print(type(a))"
   ]
  },
  {
   "cell_type": "code",
   "execution_count": 21,
   "id": "e92eade0-9751-485e-b9c5-6fcba961dd5b",
   "metadata": {},
   "outputs": [
    {
     "name": "stdout",
     "output_type": "stream",
     "text": [
      "(1, 2, 3, 4, 5, 'Apple', 2, 3.5, True)\n"
     ]
    }
   ],
   "source": [
    "a=(1,2,3,4,5)\n",
    "b=(\"Apple\",2, 3.5,True)\n",
    "c=a+b\n",
    "print(c)"
   ]
  },
  {
   "cell_type": "code",
   "execution_count": 26,
   "id": "a3a7aef5-e586-40e9-8239-176644d821d7",
   "metadata": {},
   "outputs": [
    {
     "name": "stdout",
     "output_type": "stream",
     "text": [
      "('Apple', 2, 3.5, True, 'Apple', 2, 3.5, True, 'Apple', 2, 3.5, True)\n",
      "('Apple', 2, 3.5, True, 'Apple', 2, 3.5, True, 'Apple', 2, 3.5, True, 'Apple', 2, 3.5, True)\n",
      "4\n"
     ]
    }
   ],
   "source": [
    "a=(\"Apple\",2, 3.5,True)\n",
    "print(a*3)\n",
    "print(a+a+a+a)\n",
    "print(len(a))"
   ]
  },
  {
   "cell_type": "markdown",
   "id": "274f69c7-a364-4622-81eb-c7d3f0ae7ea7",
   "metadata": {},
   "source": [
    "TAKE 5 INPUTS FROM USER AND STORE IT IN A TUPLE"
   ]
  },
  {
   "cell_type": "code",
   "execution_count": 28,
   "id": "bd6968a3-e821-4b61-977b-80b3820f7178",
   "metadata": {},
   "outputs": [
    {
     "name": "stdin",
     "output_type": "stream",
     "text": [
      "Enter the values 25\n"
     ]
    },
    {
     "name": "stdout",
     "output_type": "stream",
     "text": [
      "(25,)\n"
     ]
    },
    {
     "name": "stdin",
     "output_type": "stream",
     "text": [
      "Enter the values 32\n"
     ]
    },
    {
     "name": "stdout",
     "output_type": "stream",
     "text": [
      "(25, 32)\n"
     ]
    },
    {
     "name": "stdin",
     "output_type": "stream",
     "text": [
      "Enter the values 41\n"
     ]
    },
    {
     "name": "stdout",
     "output_type": "stream",
     "text": [
      "(25, 32, 41)\n"
     ]
    },
    {
     "name": "stdin",
     "output_type": "stream",
     "text": [
      "Enter the values 15\n"
     ]
    },
    {
     "name": "stdout",
     "output_type": "stream",
     "text": [
      "(25, 32, 41, 15)\n"
     ]
    },
    {
     "name": "stdin",
     "output_type": "stream",
     "text": [
      "Enter the values 50\n"
     ]
    },
    {
     "name": "stdout",
     "output_type": "stream",
     "text": [
      "(25, 32, 41, 15, 50)\n"
     ]
    }
   ],
   "source": [
    "t=()\n",
    "i=1\n",
    "while i<=5:\n",
    "    num=int(input(\"Enter the values\"))\n",
    "    t=t+(num,)\n",
    "    i=i+1\n",
    "    print(t)"
   ]
  },
  {
   "cell_type": "code",
   "execution_count": null,
   "id": "09e7f2d9-93b8-4322-8771-e839a44a7542",
   "metadata": {},
   "outputs": [],
   "source": []
  }
 ],
 "metadata": {
  "kernelspec": {
   "display_name": "Python 3 (ipykernel)",
   "language": "python",
   "name": "python3"
  },
  "language_info": {
   "codemirror_mode": {
    "name": "ipython",
    "version": 3
   },
   "file_extension": ".py",
   "mimetype": "text/x-python",
   "name": "python",
   "nbconvert_exporter": "python",
   "pygments_lexer": "ipython3",
   "version": "3.11.7"
  }
 },
 "nbformat": 4,
 "nbformat_minor": 5
}
