{
 "cells": [
  {
   "cell_type": "markdown",
   "id": "ec414324-ca60-4ca4-b06c-0cc4955ee5f5",
   "metadata": {},
   "source": [
    "# DAY10"
   ]
  },
  {
   "cell_type": "markdown",
   "id": "3d31acbe-881d-4d6b-868a-0478e6629bf7",
   "metadata": {},
   "source": [
    "### Dictionary"
   ]
  },
  {
   "cell_type": "code",
   "execution_count": 2,
   "id": "d99a1b23-8a42-4ae0-9ece-a86f23e29858",
   "metadata": {},
   "outputs": [
    {
     "name": "stdout",
     "output_type": "stream",
     "text": [
      "{'ID': '123abc', 'Name': 'Khushi', 'Age': 20}\n",
      "<class 'dict'>\n"
     ]
    }
   ],
   "source": [
    "a={\"ID\":\"123abc\", \"Name\":\"Khushi\", \"Age\":20}\n",
    "print(a)\n",
    "print(type(a))"
   ]
  },
  {
   "cell_type": "code",
   "execution_count": 3,
   "id": "bec984f9-ddd7-4ecf-bf91-069690d3acc6",
   "metadata": {},
   "outputs": [
    {
     "name": "stdout",
     "output_type": "stream",
     "text": [
      "3\n"
     ]
    }
   ],
   "source": [
    "a={\"ID\":\"123abc\", \"Name\":\"Khushi\", \"Age\":20}\n",
    "print(len(a))"
   ]
  },
  {
   "cell_type": "code",
   "execution_count": 5,
   "id": "e76afaf9-8fb3-40f6-98bd-5084a1cb5dee",
   "metadata": {},
   "outputs": [
    {
     "name": "stdout",
     "output_type": "stream",
     "text": [
      "123abc\n",
      "Khushi\n",
      "20\n"
     ]
    }
   ],
   "source": [
    "a={\"ID\":\"123abc\", \"Name\":\"Khushi\", \"Age\":20}\n",
    "print(a[\"ID\"])\n",
    "print(a[\"Name\"])\n",
    "print(a[\"Age\"])"
   ]
  },
  {
   "cell_type": "code",
   "execution_count": 7,
   "id": "b2270498-50b4-4278-89ba-eec1d025d8c8",
   "metadata": {},
   "outputs": [
    {
     "name": "stdout",
     "output_type": "stream",
     "text": [
      "dict_keys(['ID', 'Name', 'Age'])\n",
      "dict_values(['123abc', 'Khushi', 20])\n"
     ]
    }
   ],
   "source": [
    "a={\"ID\":\"123abc\", \"Name\":\"Khushi\", \"Age\":20}\n",
    "print(a.keys())\n",
    "print(a.values())"
   ]
  },
  {
   "cell_type": "code",
   "execution_count": 8,
   "id": "a772d40b-363d-436c-a84d-f18a4ee20084",
   "metadata": {},
   "outputs": [
    {
     "name": "stdout",
     "output_type": "stream",
     "text": [
      "{'ID': 123456, 'Name': 'Khushi', 'Age': 20}\n"
     ]
    }
   ],
   "source": [
    "a={\"ID\":\"123abc\", \"Name\":\"Khushi\", \"Age\":20}\n",
    "a[\"ID\"]=123456\n",
    "print(a)"
   ]
  },
  {
   "cell_type": "code",
   "execution_count": 12,
   "id": "3e459a3a-ac09-4005-aa12-5b203bbc3434",
   "metadata": {},
   "outputs": [
    {
     "name": "stdout",
     "output_type": "stream",
     "text": [
      "{'ID': '123abc', 'Name': 'Khushi', 'Age': 20, 'Mail': 'khushi@gmail.com'}\n",
      "{'ID': '123abc', 'Name': 'Khushi', 'Age': 20}\n"
     ]
    }
   ],
   "source": [
    "a={\"ID\":\"123abc\", \"Name\":\"Khushi\", \"Age\":20}\n",
    "a.update({\"Mail\":\"khushi@gmail.com\"})\n",
    "print(a)\n",
    "a.pop(\"Mail\")\n",
    "print(a)\n",
    "a.clear()"
   ]
  },
  {
   "cell_type": "markdown",
   "id": "16c0c632-74fb-41c8-904f-097a56388131",
   "metadata": {
    "jp-MarkdownHeadingCollapsed": true
   },
   "source": [
    "CHECK IF A KEY EXIST IN A DICTIONARY"
   ]
  },
  {
   "cell_type": "code",
   "execution_count": 16,
   "id": "196060e7-954f-4261-9a18-22177a8f7b0a",
   "metadata": {},
   "outputs": [
    {
     "name": "stdout",
     "output_type": "stream",
     "text": [
      "Key exist\n"
     ]
    }
   ],
   "source": [
    "a={\"ID\":\"123abc\", \"Name\":\"Khushi\", \"Age\":20}\n",
    "if \"ID\" in a.keys():\n",
    "    print(\"Key exist\")\n",
    "\n",
    "else:\n",
    "    print(\"Key doesn't exist\")"
   ]
  },
  {
   "cell_type": "code",
   "execution_count": null,
   "id": "72e1bc33-f758-4335-9ce0-ba69cc349911",
   "metadata": {},
   "outputs": [],
   "source": []
  }
 ],
 "metadata": {
  "kernelspec": {
   "display_name": "Python 3 (ipykernel)",
   "language": "python",
   "name": "python3"
  },
  "language_info": {
   "codemirror_mode": {
    "name": "ipython",
    "version": 3
   },
   "file_extension": ".py",
   "mimetype": "text/x-python",
   "name": "python",
   "nbconvert_exporter": "python",
   "pygments_lexer": "ipython3",
   "version": "3.11.7"
  }
 },
 "nbformat": 4,
 "nbformat_minor": 5
}
