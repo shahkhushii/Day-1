{
 "cells": [
  {
   "cell_type": "markdown",
   "id": "72cedf61-99c4-4842-9715-dc4eae4e19ce",
   "metadata": {},
   "source": [
    "# DAY4"
   ]
  },
  {
   "cell_type": "markdown",
   "id": "15b209c2-6d72-4e15-8930-199441be00dd",
   "metadata": {},
   "source": [
    "### Conditional Statement"
   ]
  },
  {
   "cell_type": "code",
   "execution_count": 1,
   "id": "bb0b5daa-be54-479d-a760-85f9c3a84ed3",
   "metadata": {},
   "outputs": [
    {
     "name": "stdout",
     "output_type": "stream",
     "text": [
      "Hello\n"
     ]
    }
   ],
   "source": [
    "a=8\n",
    "if a<10:\n",
    "    print(\"Hello\")"
   ]
  },
  {
   "cell_type": "code",
   "execution_count": 4,
   "id": "922b3c69-47b7-420b-b135-cbb4d0ebb093",
   "metadata": {},
   "outputs": [
    {
     "name": "stdout",
     "output_type": "stream",
     "text": [
      "Even\n"
     ]
    }
   ],
   "source": [
    "a=10\n",
    "if a%2==0:\n",
    "    print(\"Even\")\n",
    "else:\n",
    "    print(\"Odd\")"
   ]
  },
  {
   "cell_type": "markdown",
   "id": "8a6b57b8-c16f-4941-8889-e4470c6c4518",
   "metadata": {},
   "source": [
    "CALCULATE THE RESULT OF A STUDENT USING CONDITIONAL STATEMENTS."
   ]
  },
  {
   "cell_type": "code",
   "execution_count": 6,
   "id": "f1c937e2-549f-4a72-a1b2-38845198609a",
   "metadata": {},
   "outputs": [
    {
     "name": "stdin",
     "output_type": "stream",
     "text": [
      "Enter English marks: 60\n",
      "Enter Hindi marks: 80\n",
      "Enter Maths marks: 40\n",
      "Enter Social marks: 20\n",
      "Enter Science marks: 66\n"
     ]
    },
    {
     "name": "stdout",
     "output_type": "stream",
     "text": [
      "PASS\n"
     ]
    }
   ],
   "source": [
    "a=int(input(\"Enter English marks:\"))\n",
    "b=int(input(\"Enter Hindi marks:\"))\n",
    "c=int(input(\"Enter Maths marks:\"))\n",
    "d=int(input(\"Enter Social marks:\"))\n",
    "e=int(input(\"Enter Science marks:\"))\n",
    "\n",
    "percentage=(a+b+c+d+e)/5\n",
    "\n",
    "if percentage>33:\n",
    "    print(\"PASS\") \n",
    "else:\n",
    "    print(\"FAIL\")"
   ]
  },
  {
   "cell_type": "markdown",
   "id": "869be3c5-5bb0-46c8-aee6-b76aa27ff733",
   "metadata": {},
   "source": [
    "DISPLAY HELLO IF INPUT IS MULTIPLE OF 5 ELSE BYE."
   ]
  },
  {
   "cell_type": "code",
   "execution_count": 8,
   "id": "2a5a2660-4f56-4ef5-b15c-28363926f05b",
   "metadata": {},
   "outputs": [
    {
     "name": "stdin",
     "output_type": "stream",
     "text": [
      "Enter a number 525\n"
     ]
    },
    {
     "name": "stdout",
     "output_type": "stream",
     "text": [
      "Hello\n"
     ]
    }
   ],
   "source": [
    "x=int(input(\"Enter a number\"))\n",
    "if x%5==0:\n",
    "    print(\"Hello\")\n",
    "else:\n",
    "    print(\"Bye\")"
   ]
  },
  {
   "cell_type": "markdown",
   "id": "ebcd233b-f583-4775-a2f4-a4d5613cc147",
   "metadata": {},
   "source": [
    "CHECK WHETHER A NUMBER IS NEGATIVE OR POSITIVE "
   ]
  },
  {
   "cell_type": "code",
   "execution_count": 10,
   "id": "69efcf10-8194-4fe5-9584-0f7c493c86d3",
   "metadata": {},
   "outputs": [
    {
     "name": "stdin",
     "output_type": "stream",
     "text": [
      "Enter a number -55\n"
     ]
    },
    {
     "name": "stdout",
     "output_type": "stream",
     "text": [
      "Negative number\n"
     ]
    }
   ],
   "source": [
    "x=int(input(\"Enter a number\"))\n",
    "if x>0:\n",
    "    print(\"Positive number\")\n",
    "else:\n",
    "    print(\"Negative number\")"
   ]
  },
  {
   "cell_type": "markdown",
   "id": "e2675959-382c-4033-a920-f1950ec91d65",
   "metadata": {},
   "source": [
    "IF-ELIF-ELSE EXAMPLE"
   ]
  },
  {
   "cell_type": "code",
   "execution_count": 14,
   "id": "72a8cd58-d256-4e55-b79a-2142434bc1db",
   "metadata": {},
   "outputs": [
    {
     "name": "stdin",
     "output_type": "stream",
     "text": [
      "Enter price 9999\n"
     ]
    },
    {
     "name": "stdout",
     "output_type": "stream",
     "text": [
      "Price is more than 1000\n"
     ]
    }
   ],
   "source": [
    "x=int(input(\"Enter price\"))\n",
    "if x>100 and x<500:\n",
    "    print(\"Price is more than 100\")\n",
    "elif x>500 and x<1000:\n",
    "    print(\"Price is more than 500\")\n",
    "elif x>1000:\n",
    "    print(\"Price is more than 1000\")\n",
    "else:\n",
    "    print(\"Undefined price\")\n",
    "    "
   ]
  },
  {
   "cell_type": "code",
   "execution_count": null,
   "id": "b0a2adde-70d6-4990-a672-e3e7f699d93c",
   "metadata": {},
   "outputs": [],
   "source": []
  }
 ],
 "metadata": {
  "kernelspec": {
   "display_name": "Python 3 (ipykernel)",
   "language": "python",
   "name": "python3"
  },
  "language_info": {
   "codemirror_mode": {
    "name": "ipython",
    "version": 3
   },
   "file_extension": ".py",
   "mimetype": "text/x-python",
   "name": "python",
   "nbconvert_exporter": "python",
   "pygments_lexer": "ipython3",
   "version": "3.11.7"
  }
 },
 "nbformat": 4,
 "nbformat_minor": 5
}
