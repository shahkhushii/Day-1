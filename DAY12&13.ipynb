{
 "cells": [
  {
   "cell_type": "markdown",
   "id": "870149ff-2835-4c41-aa2d-4f09ab666987",
   "metadata": {},
   "source": [
    "# DAY12&13"
   ]
  },
  {
   "cell_type": "markdown",
   "id": "5e364489-d06d-44e4-aec3-07885ed76a03",
   "metadata": {},
   "source": [
    "### NUMPY LIBRARY"
   ]
  },
  {
   "cell_type": "code",
   "execution_count": 1,
   "id": "43cb7b5d-a3fe-47e3-aa8d-e1d5e00645cf",
   "metadata": {},
   "outputs": [],
   "source": [
    "import numpy as np"
   ]
  },
  {
   "cell_type": "code",
   "execution_count": 2,
   "id": "8045b39f-994a-4b42-97c0-593aefa970ec",
   "metadata": {},
   "outputs": [
    {
     "name": "stdout",
     "output_type": "stream",
     "text": [
      "[1 2 3 4 5]\n",
      "<class 'numpy.ndarray'>\n"
     ]
    }
   ],
   "source": [
    "arr=np.array([1,2,3,4,5])\n",
    "print(arr)\n",
    "print(type(arr))"
   ]
  },
  {
   "cell_type": "code",
   "execution_count": 6,
   "id": "4900b229-1968-4579-bfdc-b2c0ad4ceb06",
   "metadata": {},
   "outputs": [
    {
     "name": "stdout",
     "output_type": "stream",
     "text": [
      "1\n",
      "2\n",
      "3\n"
     ]
    }
   ],
   "source": [
    "a=np.array([1,2,3,4,5])\n",
    "print(a.ndim)\n",
    "\n",
    "b=np.array([[1,2,3],[4,5,6]])\n",
    "print(b.ndim)\n",
    "\n",
    "c=np.array([[[1,2],[3,4]],[[5,6],[7,8]]])\n",
    "print(c.ndim)"
   ]
  },
  {
   "cell_type": "code",
   "execution_count": 8,
   "id": "d39e27a7-4c5c-4f05-afd6-587d400ce9d8",
   "metadata": {},
   "outputs": [
    {
     "name": "stdout",
     "output_type": "stream",
     "text": [
      "[[[[1 2 3 4 5]]]] 4\n"
     ]
    }
   ],
   "source": [
    "arr=np.array([1,2,3,4,5], ndmin=4)\n",
    "print(arr,arr.ndim)"
   ]
  },
  {
   "cell_type": "code",
   "execution_count": 12,
   "id": "7c50ca45-8a25-405b-9831-1e8c30637eb8",
   "metadata": {},
   "outputs": [
    {
     "name": "stdout",
     "output_type": "stream",
     "text": [
      "3\n",
      "6\n",
      "8\n"
     ]
    }
   ],
   "source": [
    "a=np.array([1,2,3,4,5])\n",
    "print(a[2])\n",
    "\n",
    "b=np.array([[1,2,3],[4,5,6]])\n",
    "print(b[1,2])\n",
    "\n",
    "c=np.array([[[1,2],[3,4]],[[5,6],[7,8]]])\n",
    "print(c[1,1,1])"
   ]
  },
  {
   "cell_type": "code",
   "execution_count": 15,
   "id": "46116dcd-d4c7-407f-8255-e488e24df058",
   "metadata": {},
   "outputs": [
    {
     "name": "stdout",
     "output_type": "stream",
     "text": [
      "[2 3 4]\n",
      "[5 6]\n",
      "[5]\n"
     ]
    }
   ],
   "source": [
    "a=np.array([1,2,3,4,5])\n",
    "print(a[1:4])\n",
    "\n",
    "b=np.array([[1,2,3],[4,5,6]])\n",
    "print(b[1,1:3])\n",
    "\n",
    "c=np.array([[[1,2],[3,4]],[[5,6],[7,8]]])\n",
    "print(c[1,0,0:1])"
   ]
  },
  {
   "cell_type": "code",
   "execution_count": 27,
   "id": "a94d959a-14fc-41ba-ae6b-34adf6fdea99",
   "metadata": {},
   "outputs": [
    {
     "name": "stdout",
     "output_type": "stream",
     "text": [
      "int32\n",
      "float64\n",
      "float64\n"
     ]
    }
   ],
   "source": [
    "a=np.array([1,2,3,4,5])\n",
    "print(a.dtype)\n",
    "\n",
    "b=np.array([1.1,2.2,3.3,4.4,5.5])\n",
    "print(b.dtype)\n",
    "\n",
    "c=np.array([1,2,3,4,5], dtype='float64')\n",
    "print(c.dtype)"
   ]
  },
  {
   "cell_type": "code",
   "execution_count": 29,
   "id": "a92637b1-03c6-4411-b7d3-b13294fbf599",
   "metadata": {},
   "outputs": [
    {
     "name": "stdout",
     "output_type": "stream",
     "text": [
      "(5,)\n",
      "(2, 3)\n",
      "(2, 2, 2)\n"
     ]
    }
   ],
   "source": [
    "a=np.array([1,2,3,4,5])\n",
    "print(a.shape) #elements\n",
    "\n",
    "b=np.array([[1,2,3],[4,5,6]])\n",
    "print(b.shape) #rows,elements\n",
    "\n",
    "c=np.array([[[1,2],[3,4]],[[5,6],[7,8]]])\n",
    "print(c.shape) #plane,rows,elements"
   ]
  },
  {
   "cell_type": "code",
   "execution_count": 35,
   "id": "dbf6535c-32de-4cf2-b773-cafc66e41253",
   "metadata": {},
   "outputs": [
    {
     "name": "stdout",
     "output_type": "stream",
     "text": [
      "[1 2 3 4 5 1 2 3]\n",
      "[[1 2 3 1 2 3]\n",
      " [4 5 6 4 5 6]]\n"
     ]
    }
   ],
   "source": [
    "a=np.array([1,2,3,4,5])\n",
    "b=np.array([1,2,3])\n",
    "c=np.concatenate((a,b))\n",
    "print(c)\n",
    "\n",
    "x=np.array([[1,2,3],[4,5,6]])\n",
    "y=np.array([[1,2,3],[4,5,6]])\n",
    "z=np.concatenate((x,y), axis=1)\n",
    "print(z)"
   ]
  },
  {
   "cell_type": "code",
   "execution_count": 38,
   "id": "3a47150a-8ca5-4f6d-8aa9-887a5912638a",
   "metadata": {},
   "outputs": [
    {
     "name": "stdout",
     "output_type": "stream",
     "text": [
      "[array([1]), array([2]), array([3]), array([4]), array([5])]\n",
      "[array([[1, 2, 3]]), array([[4, 5, 6]]), array([], shape=(0, 3), dtype=int32)]\n",
      "[array([[[1, 2],\n",
      "        [3, 4]]]), array([[[5, 6],\n",
      "        [7, 8]]]), array([], shape=(0, 2, 2), dtype=int32), array([], shape=(0, 2, 2), dtype=int32)]\n"
     ]
    }
   ],
   "source": [
    "a=np.array([1,2,3,4,5])\n",
    "x=np.array_split(a,5)\n",
    "print(x)\n",
    "\n",
    "b=np.array([[1,2,3],[4,5,6]])\n",
    "y=np.array_split(b,3)\n",
    "print(y)\n",
    "\n",
    "c=np.array([[[1,2],[3,4]],[[5,6],[7,8]]])\n",
    "z=np.array_split(c,4)\n",
    "print(z)"
   ]
  },
  {
   "cell_type": "code",
   "execution_count": 45,
   "id": "5ac4e60b-7c7e-4272-ace2-d6e0a900a247",
   "metadata": {},
   "outputs": [
    {
     "data": {
      "text/plain": [
       "array([1, 2, 3, 4, 5, 6])"
      ]
     },
     "execution_count": 45,
     "metadata": {},
     "output_type": "execute_result"
    }
   ],
   "source": [
    "a=np.array([[1,2,3],[4,5,6]])\n",
    "a.ravel()"
   ]
  },
  {
   "cell_type": "code",
   "execution_count": 44,
   "id": "9cd0431a-91c0-42fe-bc01-1bf17743fef5",
   "metadata": {},
   "outputs": [
    {
     "data": {
      "text/plain": [
       "array([1, 2, 3, 4, 5, 6, 7, 8])"
      ]
     },
     "execution_count": 44,
     "metadata": {},
     "output_type": "execute_result"
    }
   ],
   "source": [
    "b=np.array([[[1,2],[3,4]],[[5,6],[7,8]]])\n",
    "b.flatten()"
   ]
  },
  {
   "cell_type": "code",
   "execution_count": 47,
   "id": "77b6538e-f7d9-4a57-909d-7367e0344599",
   "metadata": {},
   "outputs": [
    {
     "name": "stdout",
     "output_type": "stream",
     "text": [
      "[1 2 3 4 5 6]\n",
      "[0 1 2 3 4]\n"
     ]
    }
   ],
   "source": [
    "a=np.array([[1,2,3],[4,5,6]])\n",
    "x=np.unique(a)\n",
    "print(x)\n",
    "\n",
    "b=np.array([[[1,2],[3,4]],[[3,2],[1,0]]])\n",
    "y=np.unique(b)\n",
    "print(y)"
   ]
  },
  {
   "cell_type": "code",
   "execution_count": 58,
   "id": "553e2f4e-aa3c-4db2-a4cc-f2c15fdfaf17",
   "metadata": {},
   "outputs": [
    {
     "name": "stdout",
     "output_type": "stream",
     "text": [
      "[1 2 4 5]\n",
      "[[1 3]\n",
      " [4 6]]\n",
      "[[[1 2]]\n",
      "\n",
      " [[5 6]]]\n"
     ]
    }
   ],
   "source": [
    "a=np.array([1,2,3,4,5])\n",
    "x=np.delete(a,[2])\n",
    "print(x)\n",
    "\n",
    "b=np.array([[1,2,3],[4,5,6]])\n",
    "y=np.delete(b,1,1)\n",
    "print(y)\n",
    "\n",
    "c=np.array([[[1,2],[3,4]],[[5,6],[7,8]]])\n",
    "z=np.delete(c,1,1) #delete can take maximum 3 arguments \n",
    "print(z)"
   ]
  }
 ],
 "metadata": {
  "kernelspec": {
   "display_name": "Python 3 (ipykernel)",
   "language": "python",
   "name": "python3"
  },
  "language_info": {
   "codemirror_mode": {
    "name": "ipython",
    "version": 3
   },
   "file_extension": ".py",
   "mimetype": "text/x-python",
   "name": "python",
   "nbconvert_exporter": "python",
   "pygments_lexer": "ipython3",
   "version": "3.11.7"
  }
 },
 "nbformat": 4,
 "nbformat_minor": 5
}
