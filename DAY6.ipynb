{
 "cells": [
  {
   "cell_type": "markdown",
   "id": "28cb4051-14bb-4511-a5a5-11ba75d6d465",
   "metadata": {},
   "source": [
    "# DAY6"
   ]
  },
  {
   "cell_type": "markdown",
   "id": "6dadb320-9a73-4696-a469-0643a4974476",
   "metadata": {},
   "source": [
    "### User Defined Functions"
   ]
  },
  {
   "cell_type": "code",
   "execution_count": 3,
   "id": "4cb0e7be-8758-48ac-8e0a-34b190252afa",
   "metadata": {},
   "outputs": [],
   "source": [
    "def my_function():\n",
    "    print(\"Hello\")"
   ]
  },
  {
   "cell_type": "code",
   "execution_count": 4,
   "id": "5fcb5d99-2b70-4c9b-a560-5fb5a0053e56",
   "metadata": {},
   "outputs": [
    {
     "name": "stdout",
     "output_type": "stream",
     "text": [
      "Hello\n"
     ]
    }
   ],
   "source": [
    "my_function()"
   ]
  },
  {
   "cell_type": "markdown",
   "id": "1a70a01c-a8b2-445e-9911-888108760ad4",
   "metadata": {},
   "source": [
    "RESULT OF STUDENTS ALONG WITH SCHOOL DETAILS "
   ]
  },
  {
   "cell_type": "code",
   "execution_count": 1,
   "id": "91bc372c-d6df-4681-8b74-2e17099f5f01",
   "metadata": {},
   "outputs": [],
   "source": [
    "def contacts():\n",
    "    print(\"Contact details of School:\")\n",
    "    print(\"DELHI PUBLIC SCHOOL\")\n",
    "    print(\"Banglore,Karnataka\")\n",
    "    print(\"8900000000\")\n",
    "    print(\"dpsbanglore@gmail.com\")"
   ]
  },
  {
   "cell_type": "code",
   "execution_count": 2,
   "id": "e62db85c-27f4-43c2-97eb-3a2194870759",
   "metadata": {},
   "outputs": [
    {
     "name": "stdin",
     "output_type": "stream",
     "text": [
      "Enter name of student: Khushi\n",
      "Marks in English: 56\n",
      "Marks in Hindi: 42\n",
      "Marks in Maths: 75\n",
      "Marks in Science: 65\n"
     ]
    },
    {
     "name": "stdout",
     "output_type": "stream",
     "text": [
      "\n",
      "Contact details of School:\n",
      "DELHI PUBLIC SCHOOL\n",
      "Banglore,Karnataka\n",
      "8900000000\n",
      "dpsbanglore@gmail.com\n"
     ]
    },
    {
     "name": "stdin",
     "output_type": "stream",
     "text": [
      "Enter name of student: Raj\n",
      "Marks in English: 65\n",
      "Marks in Hindi: 75\n",
      "Marks in Maths: 45\n",
      "Marks in Science: 66\n"
     ]
    },
    {
     "name": "stdout",
     "output_type": "stream",
     "text": [
      "\n",
      "Contact details of School:\n",
      "DELHI PUBLIC SCHOOL\n",
      "Banglore,Karnataka\n",
      "8900000000\n",
      "dpsbanglore@gmail.com\n"
     ]
    },
    {
     "name": "stdin",
     "output_type": "stream",
     "text": [
      "Enter name of student: Shiv\n",
      "Marks in English: 57\n",
      "Marks in Hindi: 48\n",
      "Marks in Maths: 67\n",
      "Marks in Science: 75\n"
     ]
    },
    {
     "name": "stdout",
     "output_type": "stream",
     "text": [
      "\n",
      "Contact details of School:\n",
      "DELHI PUBLIC SCHOOL\n",
      "Banglore,Karnataka\n",
      "8900000000\n",
      "dpsbanglore@gmail.com\n"
     ]
    }
   ],
   "source": [
    "for i in range(3):\n",
    "    a=input(\"Enter name of student:\")\n",
    "    b=int(input(\"Marks in English:\"))\n",
    "    c=int(input(\"Marks in Hindi:\"))\n",
    "    d=int(input(\"Marks in Maths:\"))\n",
    "    e=int(input(\"Marks in Science:\"))\n",
    "    print()\n",
    "    contacts()"
   ]
  },
  {
   "cell_type": "code",
   "execution_count": 10,
   "id": "78797b91-d0f4-490c-a740-3bf95b20364c",
   "metadata": {},
   "outputs": [],
   "source": [
    "def print_name(fname, lname):\n",
    "    print(fname+\" \"+lname)"
   ]
  },
  {
   "cell_type": "code",
   "execution_count": 11,
   "id": "f8722339-85ff-4633-b308-2dbe0b4b3980",
   "metadata": {},
   "outputs": [
    {
     "name": "stdout",
     "output_type": "stream",
     "text": [
      "Khushi Shah\n"
     ]
    }
   ],
   "source": [
    "print_name(\"Khushi\", \"Shah\")"
   ]
  },
  {
   "cell_type": "markdown",
   "id": "115bae1d-0869-49ac-ba13-7fb94b796471",
   "metadata": {},
   "source": [
    "COMPUTE THE ELECTRICITY BILL AS PER UNIT USAGE"
   ]
  },
  {
   "cell_type": "code",
   "execution_count": 13,
   "id": "c852878f-83be-4020-9a24-ab5a6bc830ec",
   "metadata": {},
   "outputs": [],
   "source": [
    "def electricity_bill(n):\n",
    "    if n<500:\n",
    "        print(\"Your bill is\",n*5)\n",
    "    elif n>500 and n<700:\n",
    "        print(\"Your bill is\",n*10)\n",
    "    elif n>700 and n<1000:\n",
    "        print(\"Your bill is\",n*15)\n",
    "    elif n>1000:\n",
    "        print(\"Your bill is\",n*20)"
   ]
  },
  {
   "cell_type": "code",
   "execution_count": 15,
   "id": "9dd9d4a8-d734-4e8a-bebc-736d5975080e",
   "metadata": {},
   "outputs": [
    {
     "name": "stdin",
     "output_type": "stream",
     "text": [
      "Enter number of units comsumed: 567.992\n"
     ]
    },
    {
     "name": "stdout",
     "output_type": "stream",
     "text": [
      "Your bill is 5679.92\n"
     ]
    }
   ],
   "source": [
    "x=float(input(\"Enter number of units comsumed:\"))\n",
    "electricity_bill(x)"
   ]
  },
  {
   "cell_type": "code",
   "execution_count": 17,
   "id": "643c3bd6-a22b-4db2-b770-baca46f58402",
   "metadata": {},
   "outputs": [
    {
     "name": "stdin",
     "output_type": "stream",
     "text": [
      "Enter customer name: Khushi\n",
      "Enter number of units comsumed: 468.55\n"
     ]
    },
    {
     "name": "stdout",
     "output_type": "stream",
     "text": [
      "Your bill is 2342.75\n",
      "\n"
     ]
    },
    {
     "name": "stdin",
     "output_type": "stream",
     "text": [
      "Enter customer name: Raj\n",
      "Enter number of units comsumed: 1201.55\n"
     ]
    },
    {
     "name": "stdout",
     "output_type": "stream",
     "text": [
      "Your bill is 24031.0\n",
      "\n"
     ]
    },
    {
     "name": "stdin",
     "output_type": "stream",
     "text": [
      "Enter customer name: Shiv\n",
      "Enter number of units comsumed: 45\n"
     ]
    },
    {
     "name": "stdout",
     "output_type": "stream",
     "text": [
      "Your bill is 225.0\n",
      "\n"
     ]
    }
   ],
   "source": [
    "for i in range(3):\n",
    "    a=input(\"Enter customer name:\")\n",
    "    x=float(input(\"Enter number of units comsumed:\"))\n",
    "    electricity_bill(x)\n",
    "    print()\n",
    "    "
   ]
  },
  {
   "cell_type": "code",
   "execution_count": null,
   "id": "f18cea24-7e8e-4e9f-9290-338b892ee6cd",
   "metadata": {},
   "outputs": [],
   "source": []
  }
 ],
 "metadata": {
  "kernelspec": {
   "display_name": "Python 3 (ipykernel)",
   "language": "python",
   "name": "python3"
  },
  "language_info": {
   "codemirror_mode": {
    "name": "ipython",
    "version": 3
   },
   "file_extension": ".py",
   "mimetype": "text/x-python",
   "name": "python",
   "nbconvert_exporter": "python",
   "pygments_lexer": "ipython3",
   "version": "3.11.7"
  }
 },
 "nbformat": 4,
 "nbformat_minor": 5
}
