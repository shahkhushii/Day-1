{
 "cells": [
  {
   "cell_type": "markdown",
   "id": "af121ba1-d007-43bd-9900-50b7e5b2cf92",
   "metadata": {},
   "source": [
    "# DAY7"
   ]
  },
  {
   "cell_type": "markdown",
   "id": "432951b9-1776-4ec4-aed8-debdb4aa3085",
   "metadata": {},
   "source": [
    "### Strings"
   ]
  },
  {
   "cell_type": "code",
   "execution_count": 3,
   "id": "425becad-a251-4aad-9b70-f40ca065b0ef",
   "metadata": {},
   "outputs": [
    {
     "name": "stdout",
     "output_type": "stream",
     "text": [
      "Python is a snake.\n",
      "Welcome to Python.\n"
     ]
    }
   ],
   "source": [
    "String= 'Welcome to Python.'\n",
    "print(\"Python is a snake.\")\n",
    "print(String)"
   ]
  },
  {
   "cell_type": "markdown",
   "id": "7ff15998-4247-4c95-8c96-a139dc92c6c6",
   "metadata": {},
   "source": [
    "INDEXING"
   ]
  },
  {
   "cell_type": "code",
   "execution_count": 6,
   "id": "b2814871-4d51-4bf9-8dbb-8d3db475e53f",
   "metadata": {},
   "outputs": [
    {
     "name": "stdout",
     "output_type": "stream",
     "text": [
      "t\n",
      "18\n"
     ]
    }
   ],
   "source": [
    "a='Welcome to Python.'\n",
    "print(a[8])\n",
    "print(len(a))"
   ]
  },
  {
   "cell_type": "code",
   "execution_count": 9,
   "id": "2267297f-e324-404d-96cd-35fee922fd38",
   "metadata": {},
   "outputs": [
    {
     "name": "stdout",
     "output_type": "stream",
     "text": [
      "W\n",
      "e\n",
      "l\n",
      "c\n",
      "o\n",
      "m\n",
      "e\n",
      " \n",
      "t\n",
      "o\n",
      " \n",
      "P\n",
      "y\n",
      "t\n",
      "h\n",
      "o\n",
      "n\n",
      ".\n"
     ]
    }
   ],
   "source": [
    "a='Welcome to Python.'\n",
    "b=len(a)\n",
    "i=0\n",
    "while i<b:\n",
    "    print(a[i])\n",
    "    i=i+1"
   ]
  },
  {
   "cell_type": "markdown",
   "id": "863e106d-df33-48e3-b466-d81d7dc6d093",
   "metadata": {},
   "source": [
    "SLICING/REVERSING"
   ]
  },
  {
   "cell_type": "code",
   "execution_count": 16,
   "id": "78876772-f8d0-4f19-8590-8e463221c537",
   "metadata": {},
   "outputs": [
    {
     "name": "stdout",
     "output_type": "stream",
     "text": [
      "Welco\n",
      "Wloet\n",
      ".nohtyP ot emocleW\n"
     ]
    }
   ],
   "source": [
    "a='Welcome to Python.'\n",
    "print(a[0:5])\n",
    "print(a[0:10:2])\n",
    "print(a[::-1])"
   ]
  },
  {
   "cell_type": "markdown",
   "id": "0675f6d4-88d4-43b6-9a2e-bbbf9db0ac9c",
   "metadata": {},
   "source": [
    "UPPER-LOWER METHOD"
   ]
  },
  {
   "cell_type": "code",
   "execution_count": 17,
   "id": "14564f46-92c1-47c5-9bf5-0a785e6efd95",
   "metadata": {},
   "outputs": [
    {
     "name": "stdout",
     "output_type": "stream",
     "text": [
      "WELCOME TO PYTHON.\n",
      "welcome to python.\n"
     ]
    }
   ],
   "source": [
    "a='Welcome to Python.'\n",
    "print(a.upper())\n",
    "print(a.lower())"
   ]
  },
  {
   "cell_type": "code",
   "execution_count": 18,
   "id": "7d2f91b7-5e47-4105-bc8c-5a4258d86727",
   "metadata": {},
   "outputs": [
    {
     "name": "stdout",
     "output_type": "stream",
     "text": [
      "Bye to Python.\n"
     ]
    }
   ],
   "source": [
    "a='Welcome to Python.'\n",
    "print(a.replace(\"Welcome\", \"Bye\"))"
   ]
  },
  {
   "cell_type": "code",
   "execution_count": 19,
   "id": "5dafba86-be6d-4db0-9efa-014d05392bc0",
   "metadata": {},
   "outputs": [
    {
     "name": "stdout",
     "output_type": "stream",
     "text": [
      "11\n"
     ]
    }
   ],
   "source": [
    "a='Welcome to Python.'\n",
    "b=a.find(\"P\")\n",
    "print(b)"
   ]
  }
 ],
 "metadata": {
  "kernelspec": {
   "display_name": "Python 3 (ipykernel)",
   "language": "python",
   "name": "python3"
  },
  "language_info": {
   "codemirror_mode": {
    "name": "ipython",
    "version": 3
   },
   "file_extension": ".py",
   "mimetype": "text/x-python",
   "name": "python",
   "nbconvert_exporter": "python",
   "pygments_lexer": "ipython3",
   "version": "3.11.7"
  }
 },
 "nbformat": 4,
 "nbformat_minor": 5
}
