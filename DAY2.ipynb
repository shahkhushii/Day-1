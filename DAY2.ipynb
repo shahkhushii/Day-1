{
 "cells": [
  {
   "cell_type": "markdown",
   "id": "7384ef06-9430-4064-b5a6-7bb154282772",
   "metadata": {},
   "source": [
    "# DAY2"
   ]
  },
  {
   "cell_type": "markdown",
   "id": "74f4a453-9862-408b-908e-2f923b835a4e",
   "metadata": {},
   "source": [
    "## Variables and Operators "
   ]
  },
  {
   "cell_type": "markdown",
   "id": "93a746d9-4ffe-4d69-8bcd-21530992750f",
   "metadata": {},
   "source": [
    "### Variables"
   ]
  },
  {
   "cell_type": "code",
   "execution_count": 21,
   "id": "1208edda-2ef7-430f-a263-0b7786c753db",
   "metadata": {},
   "outputs": [
    {
     "name": "stdout",
     "output_type": "stream",
     "text": [
      "5\n"
     ]
    }
   ],
   "source": [
    "x=5\n",
    "print(x)"
   ]
  },
  {
   "cell_type": "code",
   "execution_count": 3,
   "id": "e68c1e54-4e8e-4db3-89a0-61c740469d86",
   "metadata": {},
   "outputs": [
    {
     "name": "stdout",
     "output_type": "stream",
     "text": [
      "hello\n"
     ]
    }
   ],
   "source": [
    "y=\"hello\"\n",
    "print(y)"
   ]
  },
  {
   "cell_type": "markdown",
   "id": "320405a6-5fa5-467b-8b29-db06cce050be",
   "metadata": {},
   "source": [
    "Assigning multiple values to multiple variables at once"
   ]
  },
  {
   "cell_type": "code",
   "execution_count": 10,
   "id": "41efc6d3-fbe7-4280-995e-cc5aa78ad2f2",
   "metadata": {},
   "outputs": [
    {
     "name": "stdout",
     "output_type": "stream",
     "text": [
      "hello\n",
      "python\n",
      "code\n"
     ]
    }
   ],
   "source": [
    "x,y,z=\"hello\",\"python\",\"code\"\n",
    "print(x)\n",
    "print(y)\n",
    "print(z)"
   ]
  },
  {
   "cell_type": "markdown",
   "id": "bda23ab2-2663-41a1-96e7-a258a0df91f7",
   "metadata": {},
   "source": [
    "Assigning same value to multiple variables "
   ]
  },
  {
   "cell_type": "code",
   "execution_count": 5,
   "id": "20bc4cdd-9dc0-4fb7-ac0f-ba067f1a459f",
   "metadata": {},
   "outputs": [
    {
     "name": "stdout",
     "output_type": "stream",
     "text": [
      "hello\n",
      "hello\n",
      "hello\n"
     ]
    }
   ],
   "source": [
    "x=y=z=\"hello\"\n",
    "print(x)\n",
    "print(y)\n",
    "print(z)"
   ]
  },
  {
   "cell_type": "code",
   "execution_count": 14,
   "id": "3e8b5b93-fe12-449d-a208-6592a4eb5672",
   "metadata": {},
   "outputs": [
    {
     "name": "stdout",
     "output_type": "stream",
     "text": [
      "hello hello hello\n"
     ]
    }
   ],
   "source": [
    "x=y=z=\"hello\"\n",
    "print(x,y,z)   "
   ]
  },
  {
   "cell_type": "code",
   "execution_count": 15,
   "id": "8dc2bb58-1f8b-4143-9cc4-55a8d9cb054c",
   "metadata": {},
   "outputs": [
    {
     "name": "stdout",
     "output_type": "stream",
     "text": [
      "x\n"
     ]
    }
   ],
   "source": [
    "print(\"x\")"
   ]
  },
  {
   "cell_type": "markdown",
   "id": "00bb22a5-2f79-4573-9800-302472d6de42",
   "metadata": {},
   "source": [
    "### Data Types"
   ]
  },
  {
   "cell_type": "code",
   "execution_count": 23,
   "id": "078f2e34-a5e0-46ca-8cf1-738484179202",
   "metadata": {},
   "outputs": [
    {
     "name": "stdout",
     "output_type": "stream",
     "text": [
      "Phtyon is a snake.\n",
      "<class 'str'>\n"
     ]
    }
   ],
   "source": [
    "x=\"Python is a snake.\"\n",
    "print(x)\n",
    "print(type(x))"
   ]
  },
  {
   "cell_type": "code",
   "execution_count": 22,
   "id": "918d733e-104f-41cd-8bb9-e4cbc9af5c0e",
   "metadata": {},
   "outputs": [
    {
     "name": "stdout",
     "output_type": "stream",
     "text": [
      "2\n",
      "<class 'int'>\n"
     ]
    }
   ],
   "source": [
    "x=2\n",
    "print(x)\n",
    "print(type(x))"
   ]
  },
  {
   "cell_type": "code",
   "execution_count": 24,
   "id": "13264bfd-d69d-4251-a33d-086b63888fbf",
   "metadata": {},
   "outputs": [
    {
     "name": "stdout",
     "output_type": "stream",
     "text": [
      "3.14\n",
      "<class 'float'>\n"
     ]
    }
   ],
   "source": [
    "x=3.14\n",
    "print(x)\n",
    "print(type(x))"
   ]
  },
  {
   "cell_type": "code",
   "execution_count": 25,
   "id": "d8c6fe23-cd48-41de-a5e8-d72d10616902",
   "metadata": {},
   "outputs": [
    {
     "name": "stdout",
     "output_type": "stream",
     "text": [
      "(3+2j)\n",
      "<class 'complex'>\n"
     ]
    }
   ],
   "source": [
    "x=3+2j\n",
    "print(x)\n",
    "print(type(x))"
   ]
  },
  {
   "cell_type": "code",
   "execution_count": 26,
   "id": "e016f178-6096-4c15-9664-e04791ef91ba",
   "metadata": {},
   "outputs": [
    {
     "name": "stdout",
     "output_type": "stream",
     "text": [
      "[1, 2, 3, 4, 5]\n",
      "<class 'list'>\n"
     ]
    }
   ],
   "source": [
    "x=[1,2,3,4,5]\n",
    "print(x)\n",
    "print(type(x))"
   ]
  },
  {
   "cell_type": "code",
   "execution_count": 27,
   "id": "f480e91c-3647-4f32-8090-37ddd9960600",
   "metadata": {},
   "outputs": [
    {
     "name": "stdout",
     "output_type": "stream",
     "text": [
      "(1, 2, 3, 4, 5)\n",
      "<class 'tuple'>\n"
     ]
    }
   ],
   "source": [
    "x=(1,2,3,4,5)\n",
    "print(x)\n",
    "print(type(x))"
   ]
  },
  {
   "cell_type": "markdown",
   "id": "de3fa00e-e39d-4d44-b6c9-6e8ee7df7d6b",
   "metadata": {},
   "source": [
    "### Operators "
   ]
  },
  {
   "cell_type": "markdown",
   "id": "aafb6bc9-4077-4517-a0dd-a8e3bf3ed61f",
   "metadata": {},
   "source": [
    "Addition"
   ]
  },
  {
   "cell_type": "code",
   "execution_count": 33,
   "id": "e4517493-143d-4254-8854-0ef14b7060c4",
   "metadata": {},
   "outputs": [
    {
     "name": "stdout",
     "output_type": "stream",
     "text": [
      "5.08\n"
     ]
    }
   ],
   "source": [
    "a=2.03\n",
    "b=3.05\n",
    "print(a+b)"
   ]
  },
  {
   "cell_type": "code",
   "execution_count": 35,
   "id": "c6994e04-1056-4794-b17a-111ff5d4c3f4",
   "metadata": {},
   "outputs": [
    {
     "name": "stdout",
     "output_type": "stream",
     "text": [
      "Hello Python\n"
     ]
    }
   ],
   "source": [
    "a=\"Hello\"\n",
    "b=\"Python\"\n",
    "print(a+\" \"+b)"
   ]
  },
  {
   "cell_type": "code",
   "execution_count": 38,
   "id": "03395ce9-4e53-421f-b9c5-d67750b907de",
   "metadata": {},
   "outputs": [
    {
     "name": "stdout",
     "output_type": "stream",
     "text": [
      "(5+9j)\n"
     ]
    }
   ],
   "source": [
    "a=2+1j\n",
    "b=3+8j\n",
    "print(a+b)"
   ]
  },
  {
   "cell_type": "markdown",
   "id": "2c04742d-33a6-429c-8b6f-c8e6e03fe5dc",
   "metadata": {},
   "source": [
    "Subtraction"
   ]
  },
  {
   "cell_type": "code",
   "execution_count": 36,
   "id": "a3f1ca9c-9d83-4234-bc0d-9e9d3e57a35b",
   "metadata": {},
   "outputs": [
    {
     "name": "stdout",
     "output_type": "stream",
     "text": [
      "-1.02\n"
     ]
    }
   ],
   "source": [
    "a=2.03\n",
    "b=3.05\n",
    "print(a-b)"
   ]
  },
  {
   "cell_type": "code",
   "execution_count": 37,
   "id": "bc3bdf7d-3a80-4650-9ee6-83f7b1f238aa",
   "metadata": {},
   "outputs": [
    {
     "ename": "TypeError",
     "evalue": "unsupported operand type(s) for -: 'str' and 'str'",
     "output_type": "error",
     "traceback": [
      "\u001b[1;31m---------------------------------------------------------------------------\u001b[0m",
      "\u001b[1;31mTypeError\u001b[0m                                 Traceback (most recent call last)",
      "Cell \u001b[1;32mIn[37], line 3\u001b[0m\n\u001b[0;32m      1\u001b[0m a\u001b[38;5;241m=\u001b[39m\u001b[38;5;124m\"\u001b[39m\u001b[38;5;124mHello\u001b[39m\u001b[38;5;124m\"\u001b[39m\n\u001b[0;32m      2\u001b[0m b\u001b[38;5;241m=\u001b[39m\u001b[38;5;124m\"\u001b[39m\u001b[38;5;124mPython\u001b[39m\u001b[38;5;124m\"\u001b[39m\n\u001b[1;32m----> 3\u001b[0m \u001b[38;5;28mprint\u001b[39m(a\u001b[38;5;241m-\u001b[39mb)\n",
      "\u001b[1;31mTypeError\u001b[0m: unsupported operand type(s) for -: 'str' and 'str'"
     ]
    }
   ],
   "source": [
    "a=\"Hello\"\n",
    "b=\"Python\"\n",
    "print(a-b) #strings can't be subtracted"
   ]
  },
  {
   "cell_type": "code",
   "execution_count": 39,
   "id": "55bc728c-729d-49b9-862f-0e180b1f39e7",
   "metadata": {},
   "outputs": [
    {
     "name": "stdout",
     "output_type": "stream",
     "text": [
      "(-1-7j)\n"
     ]
    }
   ],
   "source": [
    "a=2+1j\n",
    "b=3+8j\n",
    "print(a-b)"
   ]
  },
  {
   "cell_type": "markdown",
   "id": "b47aef40-93f1-4323-bc35-ae8badd7a4a6",
   "metadata": {},
   "source": [
    "Multiplication "
   ]
  },
  {
   "cell_type": "code",
   "execution_count": 40,
   "id": "b53b3ce1-d216-4e4b-8251-c1d2d38756a3",
   "metadata": {},
   "outputs": [
    {
     "name": "stdout",
     "output_type": "stream",
     "text": [
      "6.191499999999999\n"
     ]
    }
   ],
   "source": [
    "a=2.03\n",
    "b=3.05\n",
    "print(a*b)"
   ]
  },
  {
   "cell_type": "code",
   "execution_count": 41,
   "id": "a20e8032-294f-4c5c-bd71-931f47b33c04",
   "metadata": {},
   "outputs": [
    {
     "name": "stdout",
     "output_type": "stream",
     "text": [
      "(-2+19j)\n"
     ]
    }
   ],
   "source": [
    "a=2+1j\n",
    "b=3+8j\n",
    "print(a*b)"
   ]
  },
  {
   "cell_type": "markdown",
   "id": "f9225025-70fd-4fc4-ad45-87e60fbb5412",
   "metadata": {},
   "source": [
    "Division"
   ]
  },
  {
   "cell_type": "code",
   "execution_count": 42,
   "id": "358b0f2d-5f19-45d2-9333-b331b3b78378",
   "metadata": {},
   "outputs": [
    {
     "name": "stdout",
     "output_type": "stream",
     "text": [
      "0.6655737704918032\n"
     ]
    }
   ],
   "source": [
    "a=2.03\n",
    "b=3.05\n",
    "print(a/b)"
   ]
  },
  {
   "cell_type": "code",
   "execution_count": 43,
   "id": "765a1e0a-3df5-4e23-b49f-94e68719b6ea",
   "metadata": {},
   "outputs": [
    {
     "name": "stdout",
     "output_type": "stream",
     "text": [
      "(0.1917808219178082-0.1780821917808219j)\n"
     ]
    }
   ],
   "source": [
    "a=2+1j\n",
    "b=3+8j\n",
    "print(a/b)"
   ]
  },
  {
   "cell_type": "markdown",
   "id": "8231d6ae-b980-46d8-8e50-607495783b3e",
   "metadata": {},
   "source": [
    "Modulous"
   ]
  },
  {
   "cell_type": "code",
   "execution_count": 44,
   "id": "7a359ac8-6e98-4cd5-ab5a-43817d482b63",
   "metadata": {},
   "outputs": [
    {
     "name": "stdout",
     "output_type": "stream",
     "text": [
      "2.03\n"
     ]
    }
   ],
   "source": [
    "a=2.03\n",
    "b=3.05\n",
    "print(a%b)"
   ]
  },
  {
   "cell_type": "code",
   "execution_count": 45,
   "id": "8751528b-a4b5-42cb-bf0d-86e9b3957e4c",
   "metadata": {},
   "outputs": [
    {
     "ename": "TypeError",
     "evalue": "unsupported operand type(s) for %: 'complex' and 'complex'",
     "output_type": "error",
     "traceback": [
      "\u001b[1;31m---------------------------------------------------------------------------\u001b[0m",
      "\u001b[1;31mTypeError\u001b[0m                                 Traceback (most recent call last)",
      "Cell \u001b[1;32mIn[45], line 3\u001b[0m\n\u001b[0;32m      1\u001b[0m a\u001b[38;5;241m=\u001b[39m\u001b[38;5;241m2\u001b[39m\u001b[38;5;241m+\u001b[39m\u001b[38;5;241m1\u001b[39mj\n\u001b[0;32m      2\u001b[0m b\u001b[38;5;241m=\u001b[39m\u001b[38;5;241m3\u001b[39m\u001b[38;5;241m+\u001b[39m\u001b[38;5;241m8\u001b[39mj\n\u001b[1;32m----> 3\u001b[0m \u001b[38;5;28mprint\u001b[39m(a\u001b[38;5;241m%\u001b[39mb)\n",
      "\u001b[1;31mTypeError\u001b[0m: unsupported operand type(s) for %: 'complex' and 'complex'"
     ]
    }
   ],
   "source": [
    "a=2+1j\n",
    "b=3+8j\n",
    "print(a%b) #complex numbers can't be operated like this"
   ]
  },
  {
   "cell_type": "markdown",
   "id": "e9f3e55a-abb8-48fd-975e-6de84b1a91c7",
   "metadata": {},
   "source": [
    "Exponent"
   ]
  },
  {
   "cell_type": "code",
   "execution_count": 46,
   "id": "093deee3-8842-4257-b64a-043a446a85f5",
   "metadata": {},
   "outputs": [
    {
     "name": "stdout",
     "output_type": "stream",
     "text": [
      "8.6668826380144\n"
     ]
    }
   ],
   "source": [
    "a=2.03\n",
    "b=3.05\n",
    "print(a**b)"
   ]
  },
  {
   "cell_type": "code",
   "execution_count": 47,
   "id": "153b0b3d-f688-4f5b-a749-03fb1296bdcd",
   "metadata": {},
   "outputs": [
    {
     "name": "stdout",
     "output_type": "stream",
     "text": [
      "(0.006925194017813267+0.27380372604154823j)\n"
     ]
    }
   ],
   "source": [
    "a=2+1j\n",
    "b=3+8j\n",
    "print(a**b)"
   ]
  },
  {
   "cell_type": "markdown",
   "id": "b8b9bccc-4024-4c3c-89aa-8ca961c02f6d",
   "metadata": {},
   "source": [
    "Logical operators "
   ]
  },
  {
   "cell_type": "code",
   "execution_count": 54,
   "id": "09c77e16-5721-4a86-95a4-10563e1a10df",
   "metadata": {},
   "outputs": [
    {
     "name": "stdout",
     "output_type": "stream",
     "text": [
      "False\n",
      "True\n",
      "False\n",
      "True\n"
     ]
    }
   ],
   "source": [
    "a=True\n",
    "b=False\n",
    "print(a and b)\n",
    "print(a or b)\n",
    "print(not a)\n",
    "print(not b)\n"
   ]
  }
 ],
 "metadata": {
  "kernelspec": {
   "display_name": "Python 3 (ipykernel)",
   "language": "python",
   "name": "python3"
  },
  "language_info": {
   "codemirror_mode": {
    "name": "ipython",
    "version": 3
   },
   "file_extension": ".py",
   "mimetype": "text/x-python",
   "name": "python",
   "nbconvert_exporter": "python",
   "pygments_lexer": "ipython3",
   "version": "3.11.7"
  }
 },
 "nbformat": 4,
 "nbformat_minor": 5
}
